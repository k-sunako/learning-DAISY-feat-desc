{
 "cells": [
  {
   "cell_type": "markdown",
   "id": "5a2ed9cc-54a6-4c9a-ab33-ca46c31c5220",
   "metadata": {},
   "source": [
    "# Dense DAISY feature description\n",
    "https://scikit-image.org/docs/dev/auto_examples/features_detection/plot_daisy.htmlfrom"
   ]
  },
  {
   "cell_type": "code",
   "execution_count": 9,
   "id": "9794010f-c19c-4960-87c7-13eeddaaed68",
   "metadata": {},
   "outputs": [
    {
     "name": "stdout",
     "output_type": "stream",
     "text": [
      "(512, 512)\n"
     ]
    }
   ],
   "source": [
    "from skimage.feature import daisy\n",
    "from skimage import data\n",
    "import matplotlib.pyplot as plt"
   ]
  },
  {
   "cell_type": "code",
   "execution_count": 10,
   "id": "7c0ae156-cd6e-4a67-b8a3-3fbefb944efc",
   "metadata": {},
   "outputs": [],
   "source": [
    "img = data.camera()\n",
    "descs, descs_img = daisy(img, step=150, radius=58, rings=3, histograms=6,\n",
    "                         orientations=8, visualize=True)"
   ]
  },
  {
   "cell_type": "code",
   "execution_count": null,
   "id": "2bf1c9b5-456a-43b4-bbac-b4d4b43ff20b",
   "metadata": {},
   "outputs": [],
   "source": [
    "fig, ax = plt.subplots(figsize=(6, 6))\n",
    "ax.axis('off')\n",
    "ax.imshow(descs_img)\n",
    "descs_num = descs.shape[0] * descs.shape[1]\n",
    "ax.set_title('%i DAISY descriptors extracted:' % descs_num)"
   ]
  }
 ],
 "metadata": {
  "kernelspec": {
   "display_name": "Python 3",
   "language": "python",
   "name": "python3"
  },
  "language_info": {
   "codemirror_mode": {
    "name": "ipython",
    "version": 3
   },
   "file_extension": ".py",
   "mimetype": "text/x-python",
   "name": "python",
   "nbconvert_exporter": "python",
   "pygments_lexer": "ipython3",
   "version": "3.8.1"
  }
 },
 "nbformat": 4,
 "nbformat_minor": 5
}
