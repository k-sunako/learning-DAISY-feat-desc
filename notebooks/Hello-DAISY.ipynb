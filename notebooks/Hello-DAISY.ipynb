{
 "cells": [
  {
   "cell_type": "markdown",
   "id": "5a2ed9cc-54a6-4c9a-ab33-ca46c31c5220",
   "metadata": {},
   "source": [
    "# Dense DAISY feature description\n",
    "https://scikit-image.org/docs/dev/auto_examples/features_detection/plot_daisy.htmlfrom"
   ]
  },
  {
   "cell_type": "code",
   "execution_count": 1,
   "id": "9794010f-c19c-4960-87c7-13eeddaaed68",
   "metadata": {},
   "outputs": [],
   "source": [
    "from skimage.feature import daisy\n",
    "from skimage import data\n",
    "import matplotlib.pyplot as plt"
   ]
  },
  {
   "cell_type": "code",
   "execution_count": 19,
   "id": "7c0ae156-cd6e-4a67-b8a3-3fbefb944efc",
   "metadata": {},
   "outputs": [
    {
     "name": "stdout",
     "output_type": "stream",
     "text": [
      "CPU times: user 862 ms, sys: 262 ms, total: 1.12 s\n",
      "Wall time: 1.13 s\n"
     ]
    }
   ],
   "source": [
    "%%time\n",
    "img = data.camera()\n",
    "descs = daisy(img, step=5, radius=8, visualize=True)"
   ]
  },
  {
   "cell_type": "code",
   "execution_count": 20,
   "id": "a6f9b699-3a83-40e0-bf2c-707a61516aa7",
   "metadata": {},
   "outputs": [
    {
     "data": {
      "text/plain": [
       "(100, 100, 200)"
      ]
     },
     "execution_count": 20,
     "metadata": {},
     "output_type": "execute_result"
    }
   ],
   "source": [
    "descs.shape"
   ]
  },
  {
   "cell_type": "code",
   "execution_count": null,
   "id": "2830d8e1-b510-4e70-b842-7e49f2c93ad4",
   "metadata": {},
   "outputs": [],
   "source": []
  }
 ],
 "metadata": {
  "kernelspec": {
   "display_name": "Python 3",
   "language": "python",
   "name": "python3"
  },
  "language_info": {
   "codemirror_mode": {
    "name": "ipython",
    "version": 3
   },
   "file_extension": ".py",
   "mimetype": "text/x-python",
   "name": "python",
   "nbconvert_exporter": "python",
   "pygments_lexer": "ipython3",
   "version": "3.8.1"
  }
 },
 "nbformat": 4,
 "nbformat_minor": 5
}
